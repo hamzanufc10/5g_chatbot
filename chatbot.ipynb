{
 "cells": [
  {
   "cell_type": "code",
   "execution_count": 17,
   "id": "94c4fb03-d865-4ef4-8788-eece5c1dbc39",
   "metadata": {},
   "outputs": [],
   "source": [
    "from langchain.chains import RetrievalQA\n",
    "\n",
    "\n",
    "from langchain.embeddings import GooglePalmEmbeddings\n",
    "from langchain.llms import GooglePalm"
   ]
  },
  {
   "cell_type": "code",
   "execution_count": 6,
   "id": "ff489ece-48f2-44b4-96f1-8b0636aee011",
   "metadata": {},
   "outputs": [],
   "source": [
    "os.chdir(\"E:\\chatbot_tellecom\")"
   ]
  },
  {
   "cell_type": "code",
   "execution_count": 7,
   "id": "8e5534a1-2b8b-4df9-be24-a133eaf6ae9f",
   "metadata": {},
   "outputs": [],
   "source": [
    "import google.generativeai as genai\n",
    "\n",
    "genai.configure(api_key=\"\fdasfsafa\")"
   ]
  },
  {
   "cell_type": "code",
   "execution_count": 12,
   "id": "943af8aa-867f-4309-b23a-01710a6fe870",
   "metadata": {},
   "outputs": [
    {
     "name": "stdout",
     "output_type": "stream",
     "text": [
      "response:\n",
      "GenerateContentResponse(\n",
      "    done=True,\n",
      "    iterator=None,\n",
      "    result=glm.GenerateContentResponse({'candidates': [{'content': {'parts': [{'text': \"**Ode to the Samosa, Crispy Treat**\\n\\nIn golden folds, a triangular delight,\\nSamosa, a feast, both day and night.\\nCrunchy exterior, a savory embrace,\\nEncasing flavors in a warm, spicy case.\\n\\nPotatoes mashed, with peas so green,\\nOnion's tang, a symphony unseen.\\nSeasonings dance, a tantalizing blend,\\nCreating a taste that will leave you penned.\\n\\nDipped in chutney, a burst of tangy zest,\\nOr tamarind sauce, sweet and ever-blessed.\\nThe perfect snack, a culinary thrill,\\nSamosa reigns supreme, its magic spills.\\n\\nFrom street vendors to lavish feasts so grand,\\nSamosa's presence, a culinary strand.\\nA symbol of unity, a shared delight,\\nBringing people together, day and night.\\n\\nSo raise a glass to this crispy treat,\\nSamosa, beloved, the one we can't defeat.\\nMay its flavors forever tantalize our taste,\\nA culinary treasure, forever to be graced.\"}], 'role': 'model'}, 'finish_reason': 1, 'index': 0, 'safety_ratings': [{'category': 9, 'probability': 1, 'blocked': False}, {'category': 8, 'probability': 1, 'blocked': False}, {'category': 7, 'probability': 1, 'blocked': False}, {'category': 10, 'probability': 1, 'blocked': False}], 'token_count': 0, 'grounding_attributions': []}]}),\n",
      ")\n"
     ]
    }
   ],
   "source": [
    "model = genai.GenerativeModel('gemini-pro')\n",
    "response = model.generate_content(\"poem on samosa\")\n",
    "print(response)"
   ]
  },
  {
   "cell_type": "code",
   "execution_count": 16,
   "id": "1d0d732e-50bc-4dd2-8350-274651b5b583",
   "metadata": {},
   "outputs": [
    {
     "name": "stdout",
     "output_type": "stream",
     "text": [
      "**Oh, samosa, my love**\n",
      "**You are so delicious, so flaky**\n",
      "**With your filling of potatoes and peas**\n",
      "**I could eat you every day**\n"
     ]
    }
   ],
   "source": [
    "from langchain.llms import GooglePalm\n",
    "api_key=\"fsafasqwwqf\"\n",
    "llm = GooglePalm(google_api_key=api_key, temperature=0.1)\n",
    "poem = llm(\"Write a 4 line poem of my love for samosa\")\n",
    "print(poem)\n"
   ]
  },
  {
   "cell_type": "code",
   "execution_count": 20,
   "id": "f25aede5-9862-45fc-9a03-c554a87a018b",
   "metadata": {},
   "outputs": [],
   "source": [
    "from langchain.document_loaders.csv_loader import CSVLoader\n",
    "loader = CSVLoader(file_path='5g_faq.csv', source_column=\"prompt\")\n",
    "# Store the loaded data in the 'data' variable\n",
    "data = loader.load()"
   ]
  },
  {
   "cell_type": "code",
   "execution_count": 21,
   "id": "74b31b18-c972-496b-afa6-8e3dcff0d133",
   "metadata": {},
   "outputs": [
    {
     "data": {
      "text/plain": [
       "[Document(page_content='prompt: What is Airtel 5G?\\nresponse: Airtel 5G is the latest generation of mobile network technology, offering faster speeds, lower latency, and enhanced connectivity.', metadata={'source': 'What is Airtel 5G?', 'row': 0}),\n",
       " Document(page_content='prompt: How can I check Airtel 5G coverage in my area?\\nresponse: You can check Airtel 5G coverage by visiting the Airtel website or using the Airtel Thanks app to see the latest coverage map.', metadata={'source': 'How can I check Airtel 5G coverage in my area?', 'row': 1}),\n",
       " Document(page_content='prompt: What devices are compatible with Airtel 5G?\\nresponse: Most new smartphones, including models from brands like Apple, Samsung, and OnePlus, are compatible with Airtel 5G.', metadata={'source': 'What devices are compatible with Airtel 5G?', 'row': 2}),\n",
       " Document(page_content='prompt: How do I upgrade to Airtel 5G?\\nresponse: To upgrade to Airtel 5G, ensure you have a 5G-compatible device and are within the 5G coverage area. No need to change your existing SIM card.', metadata={'source': 'How do I upgrade to Airtel 5G?', 'row': 3}),\n",
       " Document(page_content='prompt: Is there an additional cost for Airtel 5G?\\nresponse: Airtel 5G services are available at no extra cost with your existing Airtel plans.', metadata={'source': 'Is there an additional cost for Airtel 5G?', 'row': 4}),\n",
       " Document(page_content='prompt: How fast is Airtel 5G?\\nresponse: Airtel 5G offers significantly faster speeds than 4G, with potential peak download speeds up to 1 Gbps.', metadata={'source': 'How fast is Airtel 5G?', 'row': 5}),\n",
       " Document(page_content='prompt: Can I use Airtel 5G for home internet?\\nresponse: Yes, Airtel offers 5G home broadband solutions that can be used as an alternative to traditional wired connections.', metadata={'source': 'Can I use Airtel 5G for home internet?', 'row': 6}),\n",
       " Document(page_content='prompt: How does Airtel 5G improve gaming?\\nresponse: Airtel 5G provides lower latency and faster speeds, which results in a smoother and more responsive gaming experience.', metadata={'source': 'How does Airtel 5G improve gaming?', 'row': 7}),\n",
       " Document(page_content='prompt: What are the benefits of Airtel 5G for businesses?\\nresponse: Airtel 5G offers businesses enhanced connectivity, improved efficiency, and the ability to leverage advanced technologies like IoT and AI.', metadata={'source': 'What are the benefits of Airtel 5G for businesses?', 'row': 8}),\n",
       " Document(page_content='prompt: Does Airtel 5G work indoors?\\nresponse: Yes, Airtel 5G is designed to work effectively both indoors and outdoors, although indoor coverage may vary based on building materials and other factors.', metadata={'source': 'Does Airtel 5G work indoors?', 'row': 9}),\n",
       " Document(page_content='prompt: How does Airtel ensure the security of its 5G network?\\nresponse: Airtel employs advanced security measures, including encryption and network slicing, to ensure the security and privacy of its 5G network.', metadata={'source': 'How does Airtel ensure the security of its 5G network?', 'row': 10}),\n",
       " Document(page_content='prompt: What is the latency of Airtel 5G?\\nresponse: Airtel 5G offers ultra-low latency, often as low as 1 millisecond, which is ideal for applications requiring real-time responsiveness.', metadata={'source': 'What is the latency of Airtel 5G?', 'row': 11}),\n",
       " Document(page_content=\"prompt: How does Airtel 5G support IoT devices?\\nresponse: Airtel 5G's high bandwidth and low latency are perfect for supporting a wide range of IoT devices, enabling smarter and more connected environments.\", metadata={'source': 'How does Airtel 5G support IoT devices?', 'row': 12}),\n",
       " Document(page_content='prompt: Can I use Airtel 5G while roaming internationally?\\nresponse: Airtel 5G services are available in select international locations. Check with Airtel for the latest information on international 5G roaming.', metadata={'source': 'Can I use Airtel 5G while roaming internationally?', 'row': 13}),\n",
       " Document(page_content=\"prompt: What is Airtel's 5G deployment plan?\\nresponse: Airtel is rapidly expanding its 5G network across major cities and regions. Visit the Airtel website for the latest updates on 5G rollout.\", metadata={'source': \"What is Airtel's 5G deployment plan?\", 'row': 14}),\n",
       " Document(page_content='prompt: How does Airtel 5G enhance video streaming?\\nresponse: Airtel 5G offers higher speeds and lower buffering times, providing a seamless and high-quality video streaming experience.', metadata={'source': 'How does Airtel 5G enhance video streaming?', 'row': 15}),\n",
       " Document(page_content='prompt: Are there any health concerns with Airtel 5G?\\nresponse: Airtel 5G complies with all international safety standards and regulations to ensure there are no health risks associated with 5G technology.', metadata={'source': 'Are there any health concerns with Airtel 5G?', 'row': 16}),\n",
       " Document(page_content='prompt: How do I troubleshoot Airtel 5G connectivity issues?\\nresponse: If you experience connectivity issues, try restarting your device, checking for software updates, or contacting Airtel customer support for assistance.', metadata={'source': 'How do I troubleshoot Airtel 5G connectivity issues?', 'row': 17}),\n",
       " Document(page_content='prompt: What are the advantages of Airtel 5G over 4G?\\nresponse: Airtel 5G offers significantly faster speeds, lower latency, higher capacity, and the ability to connect more devices simultaneously compared to 4G.', metadata={'source': 'What are the advantages of Airtel 5G over 4G?', 'row': 18}),\n",
       " Document(page_content=\"prompt: Can I switch back to 4G if needed?\\nresponse: Yes, if needed, you can switch back to 4G by adjusting your device's network settings. Your Airtel SIM will support both 4G and 5G networks.\", metadata={'source': 'Can I switch back to 4G if needed?', 'row': 19}),\n",
       " Document(page_content='prompt: How does Airtel 5G impact battery life on devices?\\nresponse: Airtel 5G may impact battery life due to higher data speeds and usage, but modern devices are optimized to manage battery efficiency while using 5G.', metadata={'source': 'How does Airtel 5G impact battery life on devices?', 'row': 20}),\n",
       " Document(page_content='prompt: What is the upload speed of Airtel 5G?\\nresponse: Airtel 5G offers significantly improved upload speeds compared to 4G, often reaching up to 200 Mbps.', metadata={'source': 'What is the upload speed of Airtel 5G?', 'row': 21}),\n",
       " Document(page_content=\"prompt: How does Airtel 5G enhance virtual reality experiences?\\nresponse: Airtel 5G's low latency and high bandwidth provide a smoother, more immersive virtual reality experience with real-time responsiveness.\", metadata={'source': 'How does Airtel 5G enhance virtual reality experiences?', 'row': 22}),\n",
       " Document(page_content='prompt: Can I use Airtel 5G for online education?\\nresponse: Yes, Airtel 5G provides fast and stable internet connections ideal for online education, enabling seamless video calls and quick access to educational resources.', metadata={'source': 'Can I use Airtel 5G for online education?', 'row': 23}),\n",
       " Document(page_content='prompt: What kind of SIM card do I need for Airtel 5G?\\nresponse: You can use your existing Airtel SIM card to access 5G services; no new SIM card is required.', metadata={'source': 'What kind of SIM card do I need for Airtel 5G?', 'row': 24}),\n",
       " Document(page_content='prompt: How reliable is Airtel 5G in extreme weather conditions?\\nresponse: Airtel 5G is designed to be resilient and reliable even in extreme weather conditions, ensuring consistent connectivity.', metadata={'source': 'How reliable is Airtel 5G in extreme weather conditions?', 'row': 25}),\n",
       " Document(page_content='prompt: What plans are available for Airtel 5G?\\nresponse: Airtel offers various plans that include 5G services at no additional cost. Visit the Airtel website or app for details on available plans.', metadata={'source': 'What plans are available for Airtel 5G?', 'row': 26}),\n",
       " Document(page_content='prompt: How does Airtel 5G improve video conferencing?\\nresponse: Airtel 5G enhances video conferencing with higher quality video, reduced lag, and more stable connections.', metadata={'source': 'How does Airtel 5G improve video conferencing?', 'row': 27}),\n",
       " Document(page_content='prompt: Is Airtel 5G suitable for rural areas?\\nresponse: Airtel is working to expand its 5G coverage to rural areas, aiming to provide fast and reliable internet access across all regions.', metadata={'source': 'Is Airtel 5G suitable for rural areas?', 'row': 28}),\n",
       " Document(page_content='prompt: What are the environmental impacts of Airtel 5G?\\nresponse: Airtel 5G networks are designed to be energy-efficient, helping to reduce the overall environmental impact while providing faster and more reliable connectivity.', metadata={'source': 'What are the environmental impacts of Airtel 5G?', 'row': 29}),\n",
       " Document(page_content='prompt: How does Airtel 5G benefit smart cities?\\nresponse: Airtel 5G supports the infrastructure of smart cities by enabling advanced technologies such as smart traffic management, public safety, and efficient energy use.', metadata={'source': 'How does Airtel 5G benefit smart cities?', 'row': 30}),\n",
       " Document(page_content='prompt: Can Airtel 5G be used for telemedicine?\\nresponse: Yes, Airtel 5G provides the high-speed, low-latency connections needed for telemedicine, enabling real-time consultations and remote medical services.', metadata={'source': 'Can Airtel 5G be used for telemedicine?', 'row': 31}),\n",
       " Document(page_content='prompt: How can businesses leverage Airtel 5G for remote work?\\nresponse: Airtel 5G offers reliable and fast internet connections that are essential for remote work, supporting video conferencing, cloud services, and collaboration tools.', metadata={'source': 'How can businesses leverage Airtel 5G for remote work?', 'row': 32}),\n",
       " Document(page_content='prompt: What are the key features of Airtel 5G?\\nresponse: Key features of Airtel 5G include ultra-fast speeds, low latency, high reliability, and the ability to connect more devices simultaneously.', metadata={'source': 'What are the key features of Airtel 5G?', 'row': 33}),\n",
       " Document(page_content='prompt: How does Airtel 5G support cloud gaming?\\nresponse: Airtel 5G provides the low latency and high-speed connectivity necessary for a seamless cloud gaming experience, reducing lag and buffering.', metadata={'source': 'How does Airtel 5G support cloud gaming?', 'row': 34}),\n",
       " Document(page_content='prompt: What spectrum bands does Airtel 5G use?\\nresponse: Airtel 5G operates on a variety of spectrum bands to ensure widespread coverage and optimal performance.', metadata={'source': 'What spectrum bands does Airtel 5G use?', 'row': 35}),\n",
       " Document(page_content='prompt: Can Airtel 5G improve mobile hotspot performance?\\nresponse: Yes, Airtel 5G enhances mobile hotspot performance with faster speeds and more reliable connections compared to 4G.', metadata={'source': 'Can Airtel 5G improve mobile hotspot performance?', 'row': 36}),\n",
       " Document(page_content=\"prompt: How does Airtel 5G support autonomous vehicles?\\nresponse: Airtel 5G's low latency and high reliability are crucial for the real-time data transmission needed for autonomous vehicle operation.\", metadata={'source': 'How does Airtel 5G support autonomous vehicles?', 'row': 37}),\n",
       " Document(page_content='prompt: What is the range of Airtel 5G towers?\\nresponse: The range of Airtel 5G towers can vary, but generally, they provide coverage over several kilometers, depending on the environment and other factors.', metadata={'source': 'What is the range of Airtel 5G towers?', 'row': 38}),\n",
       " Document(page_content='prompt: How does Airtel 5G handle network congestion?\\nresponse: Airtel 5G uses advanced technologies like network slicing and dynamic spectrum allocation to manage network congestion effectively.', metadata={'source': 'How does Airtel 5G handle network congestion?', 'row': 39}),\n",
       " Document(page_content='prompt: Are there any Airtel 5G specific apps or services?\\nresponse: Airtel offers a range of apps and services optimized for 5G, including enhanced streaming, gaming, and productivity tools.', metadata={'source': 'Are there any Airtel 5G specific apps or services?', 'row': 40}),\n",
       " Document(page_content=\"prompt: How does Airtel 5G support augmented reality applications?\\nresponse: Airtel 5G's high speed and low latency provide the performance needed for smooth and responsive augmented reality applications.\", metadata={'source': 'How does Airtel 5G support augmented reality applications?', 'row': 41}),\n",
       " Document(page_content='prompt: Can Airtel 5G be used for smart home devices?\\nresponse: Yes, Airtel 5G can support a wide range of smart home devices, providing fast and reliable connectivity for home automation.', metadata={'source': 'Can Airtel 5G be used for smart home devices?', 'row': 42}),\n",
       " Document(page_content='prompt: How does Airtel 5G improve disaster response and management?\\nresponse: Airtel 5G enables better communication and coordination during disasters with its reliable and fast connectivity, supporting real-time data sharing and remote operations.', metadata={'source': 'How does Airtel 5G improve disaster response and management?', 'row': 43}),\n",
       " Document(page_content='prompt: What is Airtel 5G Edge?\\nresponse: Airtel 5G Edge is a service that brings compute and storage closer to the end-user, reducing latency and improving performance for applications.', metadata={'source': 'What is Airtel 5G Edge?', 'row': 44}),\n",
       " Document(page_content='prompt: How can Airtel 5G be used in healthcare?\\nresponse: Airtel 5G supports advanced healthcare applications such as remote surgery, real-time patient monitoring, and telemedicine.', metadata={'source': 'How can Airtel 5G be used in healthcare?', 'row': 45}),\n",
       " Document(page_content='prompt: What are the data limits for Airtel 5G plans?\\nresponse: Airtel 5G plans come with generous data limits, often similar to existing 4G plans. Check your specific plan details for more information.', metadata={'source': 'What are the data limits for Airtel 5G plans?', 'row': 46}),\n",
       " Document(page_content='prompt: How does Airtel 5G support live event streaming?\\nresponse: Airtel 5G provides the high-speed and low-latency connections necessary for high-quality live event streaming without buffering.', metadata={'source': 'How does Airtel 5G support live event streaming?', 'row': 47}),\n",
       " Document(page_content='prompt: Can Airtel 5G improve network reliability?\\nresponse: Yes, Airtel 5G offers improved network reliability with advanced technologies designed to maintain connectivity even in challenging conditions.', metadata={'source': 'Can Airtel 5G improve network reliability?', 'row': 48}),\n",
       " Document(page_content='prompt: How does Airtel 5G support remote industrial operations?\\nresponse: Airtel 5G enables remote industrial operations with its high-speed, low-latency connectivity, supporting applications like remote machinery control and monitoring.', metadata={'source': 'How does Airtel 5G support remote industrial operations?', 'row': 49}),\n",
       " Document(page_content='prompt: What partnerships does Airtel have for 5G development?\\nresponse: Airtel collaborates with leading technology companies and industry partners to develop and deploy advanced 5G solutions and infrastructure.', metadata={'source': 'What partnerships does Airtel have for 5G development?', 'row': 50})]"
      ]
     },
     "execution_count": 21,
     "metadata": {},
     "output_type": "execute_result"
    }
   ],
   "source": [
    "data"
   ]
  },
  {
   "cell_type": "code",
   "execution_count": 22,
   "id": "1bb8e6c8-0b52-4e13-9cb9-e6852a647d82",
   "metadata": {},
   "outputs": [
    {
     "name": "stdout",
     "output_type": "stream",
     "text": [
      "load INSTRUCTOR_Transformer\n",
      "max_seq_length  512\n"
     ]
    }
   ],
   "source": [
    "from langchain.embeddings import HuggingFaceInstructEmbeddings\n",
    "\n",
    "# Initialize instructor embeddings using the Hugging Face model\n",
    "instructor_embeddings = HuggingFaceInstructEmbeddings(model_name=\"hkunlp/instructor-large\")\n",
    "\n",
    "e = instructor_embeddings.embed_query(\"What is your refund policy?\")"
   ]
  },
  {
   "cell_type": "code",
   "execution_count": 23,
   "id": "4bfcb92e-3fc3-46d7-8513-6df20b58a3b7",
   "metadata": {},
   "outputs": [],
   "source": [
    "from langchain.vectorstores import FAISS\n",
    "\n",
    "# Create a FAISS instance for vector database from 'data'\n",
    "vectordb = FAISS.from_documents(documents=data,\n",
    "                                 embedding=instructor_embeddings)\n",
    "\n",
    "# Create a retriever for querying the vector database\n",
    "retriever = vectordb.as_retriever(score_threshold = 0.7)"
   ]
  },
  {
   "cell_type": "code",
   "execution_count": 25,
   "id": "4bdbcd5b-0e8c-4a5c-9299-1f6dcfcaea00",
   "metadata": {},
   "outputs": [
    {
     "data": {
      "text/plain": [
       "[Document(page_content='prompt: Is there an additional cost for Airtel 5G?\\nresponse: Airtel 5G services are available at no extra cost with your existing Airtel plans.', metadata={'source': 'Is there an additional cost for Airtel 5G?', 'row': 4}),\n",
       " Document(page_content='prompt: What plans are available for Airtel 5G?\\nresponse: Airtel offers various plans that include 5G services at no additional cost. Visit the Airtel website or app for details on available plans.', metadata={'source': 'What plans are available for Airtel 5G?', 'row': 26}),\n",
       " Document(page_content='prompt: What is Airtel 5G?\\nresponse: Airtel 5G is the latest generation of mobile network technology, offering faster speeds, lower latency, and enhanced connectivity.', metadata={'source': 'What is Airtel 5G?', 'row': 0}),\n",
       " Document(page_content='prompt: What are the data limits for Airtel 5G plans?\\nresponse: Airtel 5G plans come with generous data limits, often similar to existing 4G plans. Check your specific plan details for more information.', metadata={'source': 'What are the data limits for Airtel 5G plans?', 'row': 46})]"
      ]
     },
     "execution_count": 25,
     "metadata": {},
     "output_type": "execute_result"
    }
   ],
   "source": [
    "rdocs = retriever.get_relevant_documents(\"Cost of Airtel 5g\")\n",
    "rdocs"
   ]
  },
  {
   "cell_type": "code",
   "execution_count": 32,
   "id": "037152ed-191d-40ae-8e0d-3352f2bdb9b7",
   "metadata": {},
   "outputs": [],
   "source": [
    "from langchain.prompts import PromptTemplate\n",
    "\n",
    "prompt_template = \"\"\"Given the following context and a question, generate an answer based on this context only.\n",
    "In the answer try to provide as much text as possible from \"response\" section in the source document context without making much changes.\n",
    "If the answer is not found in the context, kindly state \"I don't know.\" Don't try to make up an answer.\n",
    "\n",
    "CONTEXT: {context}\n",
    "\n",
    "QUESTION: {question}\"\"\"\n",
    "\n",
    "\n",
    "PROMPT = PromptTemplate(\n",
    "    template=prompt_template, input_variables=[\"context\", \"question\"]\n",
    ")\n",
    "chain_type_kwargs = {\"prompt\": PROMPT}\n",
    "\n",
    "\n",
    "from langchain.chains import RetrievalQA\n",
    "\n",
    "chain = RetrievalQA.from_chain_type(llm=llm,\n",
    "                            chain_type=\"stuff\",\n",
    "                            retriever=retriever,\n",
    "                            input_key=\"query\",\n",
    "                            return_source_documents=True,\n",
    "                            chain_type_kwargs=chain_type_kwargs)"
   ]
  },
  {
   "cell_type": "code",
   "execution_count": 34,
   "id": "739d75d0-3bea-4b98-9caf-16ba84f93acd",
   "metadata": {},
   "outputs": [
    {
     "data": {
      "text/plain": [
       "{'query': 'is 5g costly',\n",
       " 'result': 'Airtel 5G services are available at no extra cost with your existing Airtel plans.',\n",
       " 'source_documents': [Document(page_content='prompt: Is there an additional cost for Airtel 5G?\\nresponse: Airtel 5G services are available at no extra cost with your existing Airtel plans.', metadata={'source': 'Is there an additional cost for Airtel 5G?', 'row': 4}),\n",
       "  Document(page_content='prompt: What plans are available for Airtel 5G?\\nresponse: Airtel offers various plans that include 5G services at no additional cost. Visit the Airtel website or app for details on available plans.', metadata={'source': 'What plans are available for Airtel 5G?', 'row': 26}),\n",
       "  Document(page_content='prompt: What are the data limits for Airtel 5G plans?\\nresponse: Airtel 5G plans come with generous data limits, often similar to existing 4G plans. Check your specific plan details for more information.', metadata={'source': 'What are the data limits for Airtel 5G plans?', 'row': 46}),\n",
       "  Document(page_content='prompt: How does Airtel 5G impact battery life on devices?\\nresponse: Airtel 5G may impact battery life due to higher data speeds and usage, but modern devices are optimized to manage battery efficiency while using 5G.', metadata={'source': 'How does Airtel 5G impact battery life on devices?', 'row': 20})]}"
      ]
     },
     "execution_count": 34,
     "metadata": {},
     "output_type": "execute_result"
    }
   ],
   "source": [
    "chain(\"is 5g costly\")"
   ]
  },
  {
   "cell_type": "code",
   "execution_count": null,
   "id": "45b42a28-f452-45e7-910b-45e55ba581fe",
   "metadata": {},
   "outputs": [],
   "source": []
  }
 ],
 "metadata": {
  "kernelspec": {
   "display_name": "Python 3 (ipykernel)",
   "language": "python",
   "name": "python3"
  },
  "language_info": {
   "codemirror_mode": {
    "name": "ipython",
    "version": 3
   },
   "file_extension": ".py",
   "mimetype": "text/x-python",
   "name": "python",
   "nbconvert_exporter": "python",
   "pygments_lexer": "ipython3",
   "version": "3.11.7"
  }
 },
 "nbformat": 4,
 "nbformat_minor": 5
}
